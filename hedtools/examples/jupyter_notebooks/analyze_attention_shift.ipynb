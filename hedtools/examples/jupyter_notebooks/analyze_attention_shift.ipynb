{
 "cells": [
  {
   "cell_type": "code",
   "execution_count": null,
   "metadata": {
    "collapsed": true
   },
   "outputs": [],
   "source": []
  },
  {
   "cell_type": "code",
   "execution_count": 1,
   "outputs": [],
   "source": [
    "bids_root_path = 'G:/AttentionShift/AttentionShiftExperiments'"
   ],
   "metadata": {
    "collapsed": false,
    "pycharm": {
     "name": "#%%\n"
    }
   }
  },
  {
   "cell_type": "code",
   "execution_count": 2,
   "outputs": [],
   "source": [
    "from hed.tools import get_file_list\n",
    "\n",
    "event_files_bids = get_file_list(bids_root_path, types=[\".tsv\"], suffix=\"_events\")\n",
    "event_files_eeg = get_file_list(bids_root_path, types=[\".tsv\"], suffix=\"_events_temp\")\n",
    "bids_skip = ['onset', 'duration', 'sample', 'response_time', 'stim_file', 'HED']\n",
    "eeg_skip = ['latency', 'urevent', 'usertags', 'sample_offset']\n"
   ],
   "metadata": {
    "collapsed": false,
    "pycharm": {
     "name": "#%%\n"
    }
   }
  },
  {
   "cell_type": "code",
   "execution_count": 3,
   "outputs": [
    {
     "name": "stdout",
     "output_type": "stream",
     "text": [
      "\n",
      "BIDS form of the events:\n",
      "sub-001_run-01: ['onset', 'duration', 'sample', 'trial_type', 'response_time', 'stim_file', 'value', 'HED']\n",
      "sub-002_run-01: ['onset', 'duration', 'sample', 'trial_type', 'response_time', 'stim_file', 'value', 'HED']\n",
      "sub-003_run-01: ['onset', 'duration', 'sample', 'trial_type', 'response_time', 'stim_file', 'value', 'HED']\n",
      "sub-004_run-01: ['onset', 'duration', 'sample', 'trial_type', 'response_time', 'stim_file', 'value', 'HED']\n",
      "sub-004_run-02: ['onset', 'duration', 'sample', 'trial_type', 'response_time', 'stim_file', 'value', 'HED']\n",
      "sub-005_run-01: ['onset', 'duration', 'sample', 'trial_type', 'response_time', 'stim_file', 'value', 'HED']\n",
      "sub-006_run-01: ['onset', 'duration', 'sample', 'trial_type', 'response_time', 'stim_file', 'value', 'HED']\n",
      "sub-007_run-01: ['onset', 'duration', 'sample', 'trial_type', 'response_time', 'stim_file', 'value', 'HED']\n",
      "sub-008_run-01: ['onset', 'duration', 'sample', 'trial_type', 'response_time', 'stim_file', 'value', 'HED']\n",
      "sub-009_run-01: ['onset', 'duration', 'sample', 'trial_type', 'response_time', 'stim_file', 'value', 'HED']\n",
      "sub-010_run-01: ['onset', 'duration', 'sample', 'trial_type', 'response_time', 'stim_file', 'value', 'HED']\n",
      "sub-011_run-01: ['onset', 'duration', 'sample', 'trial_type', 'response_time', 'stim_file', 'value', 'HED']\n",
      "sub-012_run-01: ['onset', 'duration', 'sample', 'trial_type', 'response_time', 'stim_file', 'value', 'HED']\n",
      "sub-013_run-01: ['onset', 'duration', 'sample', 'trial_type', 'response_time', 'stim_file', 'value', 'HED']\n",
      "sub-014_run-01: ['onset', 'duration', 'sample', 'trial_type', 'response_time', 'stim_file', 'value', 'HED']\n",
      "sub-015_run-01: ['onset', 'duration', 'sample', 'trial_type', 'response_time', 'stim_file', 'value', 'HED']\n",
      "sub-016_run-01: ['onset', 'duration', 'sample', 'trial_type', 'response_time', 'stim_file', 'value', 'HED']\n",
      "sub-017_run-01: ['onset', 'duration', 'sample', 'trial_type', 'response_time', 'stim_file', 'value', 'HED']\n",
      "sub-018_run-01: ['onset', 'duration', 'sample', 'trial_type', 'response_time', 'stim_file', 'value', 'HED']\n",
      "sub-019_run-01: ['onset', 'duration', 'sample', 'trial_type', 'response_time', 'stim_file', 'value', 'HED']\n",
      "sub-020_run-01: ['onset', 'duration', 'sample', 'trial_type', 'response_time', 'stim_file', 'value', 'HED']\n",
      "sub-020_run-02: ['onset', 'duration', 'sample', 'trial_type', 'response_time', 'stim_file', 'value', 'HED']\n",
      "sub-021_run-01: ['onset', 'duration', 'sample', 'trial_type', 'response_time', 'stim_file', 'value', 'HED']\n",
      "sub-021_run-02: ['onset', 'duration', 'sample', 'trial_type', 'response_time', 'stim_file', 'value', 'HED']\n",
      "sub-022_run-01: ['onset', 'duration', 'sample', 'trial_type', 'response_time', 'stim_file', 'value', 'HED']\n",
      "sub-022_run-02: ['onset', 'duration', 'sample', 'trial_type', 'response_time', 'stim_file', 'value', 'HED']\n",
      "sub-023_run-01: ['onset', 'duration', 'sample', 'trial_type', 'response_time', 'stim_file', 'value', 'HED']\n",
      "sub-024_run-01: ['onset', 'duration', 'sample', 'trial_type', 'response_time', 'stim_file', 'value', 'HED']\n",
      "sub-025_run-01: ['onset', 'duration', 'sample', 'trial_type', 'response_time', 'stim_file', 'value', 'HED']\n",
      "sub-026_run-01: ['onset', 'duration', 'sample', 'trial_type', 'response_time', 'stim_file', 'value', 'HED']\n",
      "sub-027_run-01: ['onset', 'duration', 'sample', 'trial_type', 'response_time', 'stim_file', 'value', 'HED']\n",
      "sub-028_run-01: ['onset', 'duration', 'sample', 'trial_type', 'response_time', 'stim_file', 'value', 'HED']\n",
      "sub-028_run-02: ['onset', 'duration', 'sample', 'trial_type', 'response_time', 'stim_file', 'value', 'HED']\n",
      "sub-029_run-01: ['onset', 'duration', 'sample', 'trial_type', 'response_time', 'stim_file', 'value', 'HED']\n",
      "sub-030_run-01: ['onset', 'duration', 'sample', 'trial_type', 'response_time', 'stim_file', 'value', 'HED']\n",
      "sub-031_run-01: ['onset', 'duration', 'sample', 'trial_type', 'response_time', 'stim_file', 'value', 'HED']\n",
      "sub-032_run-01: ['onset', 'duration', 'sample', 'trial_type', 'response_time', 'stim_file', 'value', 'HED']\n",
      "sub-033_run-01: ['onset', 'duration', 'sample', 'trial_type', 'response_time', 'stim_file', 'value', 'HED']\n",
      "sub-034_run-01: ['onset', 'duration', 'sample', 'trial_type', 'response_time', 'stim_file', 'value', 'HED']\n",
      "sub-035_run-01: ['onset', 'duration', 'sample', 'trial_type', 'response_time', 'stim_file', 'value', 'HED']\n",
      "sub-036_run-01: ['onset', 'duration', 'sample', 'trial_type', 'response_time', 'stim_file', 'value', 'HED']\n",
      "sub-036_run-02: ['onset', 'duration', 'sample', 'trial_type', 'response_time', 'stim_file', 'value', 'HED']\n",
      "sub-037_run-01: ['onset', 'duration', 'sample', 'trial_type', 'response_time', 'stim_file', 'value', 'HED']\n",
      "sub-038_run-01: ['onset', 'duration', 'sample', 'trial_type', 'response_time', 'stim_file', 'value', 'HED']\n",
      "sub-039_run-01: ['onset', 'duration', 'sample', 'trial_type', 'response_time', 'stim_file', 'value', 'HED']\n",
      "sub-040_run-01: ['onset', 'duration', 'sample', 'trial_type', 'response_time', 'stim_file', 'value', 'HED']\n",
      "sub-041_run-01: ['onset', 'duration', 'sample', 'trial_type', 'response_time', 'stim_file', 'value', 'HED']\n",
      "sub-042_run-01: ['onset', 'duration', 'sample', 'trial_type', 'response_time', 'stim_file', 'value', 'HED']\n",
      "sub-043_run-01: ['onset', 'duration', 'sample', 'trial_type', 'response_time', 'stim_file', 'value', 'HED']\n",
      "sub-044_run-01: ['onset', 'duration', 'sample', 'trial_type', 'response_time', 'stim_file', 'value', 'HED']\n",
      "sub-045_run-01: ['onset', 'duration', 'sample', 'trial_type', 'response_time', 'stim_file', 'value', 'HED']\n",
      "sub-046_run-01: ['onset', 'duration', 'sample', 'trial_type', 'response_time', 'stim_file', 'value', 'HED']\n",
      "sub-047_run-01: ['onset', 'duration', 'sample', 'trial_type', 'response_time', 'stim_file', 'value', 'HED']\n",
      "sub-048_run-01: ['onset', 'duration', 'sample', 'trial_type', 'response_time', 'stim_file', 'value', 'HED']\n",
      "sub-049_run-01: ['onset', 'duration', 'sample', 'trial_type', 'response_time', 'stim_file', 'value', 'HED']\n"
     ]
    }
   ],
   "source": [
    "import os\n",
    "from hed.tools import get_new_dataframe\n",
    "\n",
    "bids_file_dict = {}\n",
    "print(\"\\nBIDS form of the events:\")\n",
    "for file in event_files_bids:\n",
    "    base = os.path.basename(file)\n",
    "    pieces = base.split('_')\n",
    "    key = f\"{pieces[0]}_{pieces[-2]}\"\n",
    "    df = get_new_dataframe(file)\n",
    "    bids_file_dict[key] = file\n",
    "    print(f\"{key}: {str(list(df.columns.values))}\")"
   ],
   "metadata": {
    "collapsed": false,
    "pycharm": {
     "name": "#%% Check column names\n"
    }
   }
  },
  {
   "cell_type": "code",
   "execution_count": 4,
   "outputs": [
    {
     "name": "stdout",
     "output_type": "stream",
     "text": [
      "\n",
      "EEG form of the events:\n",
      "sub-001_run-01: ['sample_offset', 'event_code', 'cond_code', 'type', 'latency', 'urevent', 'usertags']\n",
      "sub-002_run-01: ['sample_offset', 'event_code', 'cond_code', 'type', 'latency', 'urevent', 'usertags']\n",
      "sub-003_run-01: ['sample_offset', 'event_code', 'cond_code', 'type', 'latency', 'urevent', 'usertags']\n",
      "sub-004_run-01: ['sample_offset', 'event_code', 'cond_code', 'type', 'latency', 'urevent', 'usertags']\n",
      "sub-004_run-02: ['sample_offset', 'event_code', 'cond_code', 'type', 'latency', 'urevent', 'usertags']\n",
      "sub-005_run-01: ['sample_offset', 'event_code', 'cond_code', 'type', 'latency', 'urevent', 'usertags']\n",
      "sub-006_run-01: ['sample_offset', 'event_code', 'cond_code', 'type', 'latency', 'urevent', 'usertags']\n",
      "sub-007_run-01: ['sample_offset', 'event_code', 'cond_code', 'type', 'latency', 'urevent', 'usertags']\n",
      "sub-008_run-01: ['sample_offset', 'event_code', 'cond_code', 'type', 'latency', 'urevent', 'usertags']\n",
      "sub-009_run-01: ['sample_offset', 'event_code', 'cond_code', 'type', 'latency', 'urevent', 'usertags']\n",
      "sub-010_run-01: ['sample_offset', 'event_code', 'cond_code', 'type', 'latency', 'urevent', 'usertags']\n",
      "sub-011_run-01: ['sample_offset', 'event_code', 'cond_code', 'type', 'latency', 'urevent', 'usertags']\n",
      "sub-012_run-01: ['sample_offset', 'event_code', 'cond_code', 'type', 'latency', 'urevent', 'usertags']\n",
      "sub-013_run-01: ['sample_offset', 'event_code', 'cond_code', 'type', 'latency', 'urevent', 'usertags']\n",
      "sub-014_run-01: ['sample_offset', 'event_code', 'cond_code', 'type', 'latency', 'urevent', 'usertags']\n",
      "sub-015_run-01: ['sample_offset', 'event_code', 'cond_code', 'type', 'latency', 'urevent', 'usertags']\n",
      "sub-016_run-01: ['sample_offset', 'event_code', 'cond_code', 'type', 'latency', 'urevent', 'usertags']\n",
      "sub-017_run-01: ['sample_offset', 'event_code', 'cond_code', 'type', 'latency', 'urevent', 'usertags']\n",
      "sub-018_run-01: ['sample_offset', 'event_code', 'cond_code', 'type', 'latency', 'urevent', 'usertags']\n",
      "sub-019_run-01: ['sample_offset', 'event_code', 'cond_code', 'type', 'latency', 'urevent', 'usertags']\n",
      "sub-020_run-01: ['sample_offset', 'event_code', 'cond_code', 'type', 'latency', 'urevent', 'usertags']\n",
      "sub-020_run-02: ['sample_offset', 'event_code', 'cond_code', 'type', 'latency', 'urevent', 'usertags']\n",
      "sub-021_run-01: ['sample_offset', 'event_code', 'cond_code', 'type', 'latency', 'urevent', 'usertags']\n",
      "sub-021_run-02: ['sample_offset', 'event_code', 'cond_code', 'type', 'latency', 'urevent', 'usertags']\n",
      "sub-022_run-01: ['sample_offset', 'event_code', 'cond_code', 'type', 'latency', 'urevent', 'usertags']\n",
      "sub-022_run-02: ['sample_offset', 'event_code', 'cond_code', 'type', 'latency', 'urevent', 'usertags']\n",
      "sub-023_run-01: ['sample_offset', 'event_code', 'cond_code', 'type', 'latency', 'urevent', 'usertags']\n",
      "sub-024_run-01: ['sample_offset', 'event_code', 'cond_code', 'type', 'latency', 'urevent', 'usertags']\n",
      "sub-025_run-01: ['sample_offset', 'event_code', 'cond_code', 'type', 'latency', 'urevent', 'usertags']\n",
      "sub-026_run-01: ['sample_offset', 'event_code', 'cond_code', 'type', 'latency', 'urevent', 'usertags']\n",
      "sub-027_run-01: ['sample_offset', 'event_code', 'cond_code', 'type', 'latency', 'urevent', 'usertags']\n",
      "sub-028_run-01: ['sample_offset', 'event_code', 'cond_code', 'type', 'latency', 'urevent', 'usertags']\n",
      "sub-028_run-02: ['sample_offset', 'event_code', 'cond_code', 'type', 'latency', 'urevent', 'usertags']\n",
      "sub-029_run-01: ['sample_offset', 'event_code', 'cond_code', 'type', 'latency', 'urevent', 'usertags']\n",
      "sub-030_run-01: ['sample_offset', 'event_code', 'cond_code', 'type', 'latency', 'urevent', 'usertags']\n",
      "sub-031_run-01: ['sample_offset', 'event_code', 'cond_code', 'type', 'latency', 'urevent', 'usertags']\n",
      "sub-032_run-01: ['sample_offset', 'event_code', 'cond_code', 'type', 'latency', 'urevent', 'usertags']\n",
      "sub-033_run-01: ['sample_offset', 'event_code', 'cond_code', 'type', 'latency', 'urevent', 'usertags']\n",
      "sub-034_run-01: ['sample_offset', 'event_code', 'cond_code', 'type', 'latency', 'urevent', 'usertags']\n",
      "sub-035_run-01: ['sample_offset', 'event_code', 'cond_code', 'type', 'latency', 'urevent', 'usertags']\n",
      "sub-036_run-01: ['sample_offset', 'event_code', 'cond_code', 'type', 'latency', 'urevent', 'usertags']\n",
      "sub-036_run-02: ['sample_offset', 'event_code', 'cond_code', 'type', 'latency', 'urevent', 'usertags']\n",
      "sub-037_run-01: ['sample_offset', 'event_code', 'cond_code', 'type', 'latency', 'urevent', 'usertags']\n",
      "sub-038_run-01: ['sample_offset', 'event_code', 'cond_code', 'type', 'latency', 'urevent', 'usertags']\n",
      "sub-039_run-01: ['sample_offset', 'event_code', 'cond_code', 'type', 'latency', 'urevent', 'usertags']\n",
      "sub-040_run-01: ['sample_offset', 'event_code', 'cond_code', 'type', 'latency', 'urevent', 'usertags']\n",
      "sub-041_run-01: ['sample_offset', 'event_code', 'cond_code', 'type', 'latency', 'urevent', 'usertags']\n",
      "sub-042_run-01: ['sample_offset', 'event_code', 'cond_code', 'type', 'latency', 'urevent', 'usertags']\n",
      "sub-043_run-01: ['sample_offset', 'event_code', 'cond_code', 'type', 'latency', 'urevent', 'usertags']\n",
      "sub-044_run-01: ['sample_offset', 'event_code', 'cond_code', 'type', 'latency', 'urevent', 'usertags']\n",
      "sub-045_run-01: ['sample_offset', 'event_code', 'cond_code', 'type', 'latency', 'urevent', 'usertags']\n",
      "sub-046_run-01: ['sample_offset', 'event_code', 'cond_code', 'type', 'latency', 'urevent', 'usertags']\n",
      "sub-047_run-01: ['sample_offset', 'event_code', 'cond_code', 'type', 'latency', 'urevent', 'usertags']\n",
      "sub-048_run-01: ['sample_offset', 'event_code', 'cond_code', 'type', 'latency', 'urevent', 'usertags']\n",
      "sub-049_run-01: ['sample_offset', 'event_code', 'cond_code', 'type', 'latency', 'urevent', 'usertags']\n"
     ]
    }
   ],
   "source": [
    "eeg_file_dict = {}\n",
    "print(\"\\nEEG form of the events:\")\n",
    "for file in event_files_eeg:\n",
    "    base = os.path.basename(file)\n",
    "    pieces = base.split('_')\n",
    "    key = f\"{pieces[0]}_{pieces[-3]}\"\n",
    "    df = get_new_dataframe(file)\n",
    "    eeg_file_dict[key] = file\n",
    "    print(f\"{key}: {str(list(df.columns.values))}\")"
   ],
   "metadata": {
    "collapsed": false,
    "pycharm": {
     "name": "#%% EEG event fields\n"
    }
   }
  },
  {
   "cell_type": "code",
   "execution_count": 5,
   "outputs": [
    {
     "name": "stdout",
     "output_type": "stream",
     "text": [
      "Summary for column dictionary G:/AttentionShift/AttentionShiftExperiments BIDS:\n",
      "  Categorical columns (2):\n",
      "    trial_type (4 distinct values):\n",
      "      0: 6373\n",
      "      1: 58184\n",
      "      2: 54048\n",
      "      3: 168840\n",
      "    value (53 distinct values):\n",
      "      1: 240\n",
      "      2: 240\n",
      "      3: 192\n",
      "      4: 192\n",
      "      5: 772\n",
      "      6: 769\n",
      "      7: 192\n",
      "      8: 192\n",
      "      9: 96\n",
      "      10: 96\n",
      "      11: 3179\n",
      "      12: 3173\n",
      "      13: 4909\n",
      "      14: 4907\n",
      "      15: 18089\n",
      "      16: 18090\n",
      "      17: 192\n",
      "      18: 192\n",
      "      19: 96\n",
      "      21: 2242\n",
      "      22: 2245\n",
      "      23: 4484\n",
      "      24: 4489\n",
      "      25: 17927\n",
      "      26: 17923\n",
      "      28: 2\n",
      "      31: 6810\n",
      "      32: 6809\n",
      "      33: 96\n",
      "      34: 96\n",
      "      35: 383\n",
      "      36: 385\n",
      "      37: 9022\n",
      "      38: 9022\n",
      "      39: 4504\n",
      "      110: 96\n",
      "      111: 766\n",
      "      112: 766\n",
      "      113: 384\n",
      "      114: 382\n",
      "      199: 306\n",
      "      201: 764\n",
      "      202: 928\n",
      "      212: 3\n",
      "      310: 4510\n",
      "      311: 36014\n",
      "      312: 35989\n",
      "      313: 18009\n",
      "      314: 18014\n",
      "      1201: 5075\n",
      "      2201: 4545\n",
      "      2255: 3\n",
      "      3201: 18644\n",
      "  Value columns (0):\n"
     ]
    }
   ],
   "source": [
    "from hed.tools import ColumnDict\n",
    "bids_dicts_all = ColumnDict(skip_cols=bids_skip, name=f\"{bids_root_path} BIDS\" )\n",
    "bids_dicts = {}\n",
    "for key, file in bids_file_dict.items():\n",
    "    orig_dict = ColumnDict(skip_cols=bids_skip, name=f\"{file} BIDS\")\n",
    "    orig_dict.update(file)\n",
    "    bids_dicts[key] = orig_dict\n",
    "    bids_dicts_all.update_dict(orig_dict)\n",
    "bids_dicts_all.print()"
   ],
   "metadata": {
    "collapsed": false,
    "pycharm": {
     "name": "#%% Create summary dictionaries of the original BIDS events files\n"
    }
   }
  },
  {
   "cell_type": "code",
   "execution_count": 6,
   "outputs": [
    {
     "name": "stdout",
     "output_type": "stream",
     "text": [
      "Summary for column dictionary G:/AttentionShift/AttentionShiftExperiments EEG:\n",
      "  Categorical columns (3):\n",
      "    cond_code (4 distinct values):\n",
      "      0: 6373\n",
      "      1: 58184\n",
      "      2: 54048\n",
      "      3: 168840\n",
      "    event_code (18 distinct values):\n",
      "      1: 11703\n",
      "      2: 11701\n",
      "      3: 9296\n",
      "      4: 9301\n",
      "      5: 37171\n",
      "      6: 37167\n",
      "      7: 9406\n",
      "      8: 9408\n",
      "      9: 4696\n",
      "      10: 4702\n",
      "      11: 37548\n",
      "      12: 37524\n",
      "      13: 18778\n",
      "      14: 18779\n",
      "      199: 306\n",
      "      201: 29028\n",
      "      202: 928\n",
      "      255: 3\n",
      "    type (53 distinct values):\n",
      "      1: 240\n",
      "      2: 240\n",
      "      3: 192\n",
      "      4: 192\n",
      "      5: 772\n",
      "      6: 769\n",
      "      7: 192\n",
      "      8: 192\n",
      "      9: 96\n",
      "      10: 96\n",
      "      11: 3179\n",
      "      12: 3173\n",
      "      13: 4909\n",
      "      14: 4907\n",
      "      15: 18089\n",
      "      16: 18090\n",
      "      17: 192\n",
      "      18: 192\n",
      "      19: 96\n",
      "      21: 2242\n",
      "      22: 2245\n",
      "      23: 4484\n",
      "      24: 4489\n",
      "      25: 17927\n",
      "      26: 17923\n",
      "      28: 2\n",
      "      31: 6810\n",
      "      32: 6809\n",
      "      33: 96\n",
      "      34: 96\n",
      "      35: 383\n",
      "      36: 385\n",
      "      37: 9022\n",
      "      38: 9022\n",
      "      39: 4504\n",
      "      110: 96\n",
      "      111: 766\n",
      "      112: 766\n",
      "      113: 384\n",
      "      114: 382\n",
      "      199: 306\n",
      "      201: 764\n",
      "      202: 928\n",
      "      212: 3\n",
      "      310: 4510\n",
      "      311: 36014\n",
      "      312: 35989\n",
      "      313: 18009\n",
      "      314: 18014\n",
      "      1201: 5075\n",
      "      2201: 4545\n",
      "      2255: 3\n",
      "      3201: 18644\n",
      "  Value columns (0):\n"
     ]
    }
   ],
   "source": [
    "from hed.tools import ColumnDict\n",
    "eeg_dicts_all = ColumnDict(skip_cols=eeg_skip, name=f\"{bids_root_path} EEG\" )\n",
    "eeg_dicts = {}\n",
    "for key, file in eeg_file_dict.items():\n",
    "    eeg_dict = ColumnDict(skip_cols=eeg_skip, name=f\"{file} EEG\")\n",
    "    eeg_dict.update(file)\n",
    "    eeg_dicts[key] = eeg_dict\n",
    "    eeg_dicts_all.update_dict(eeg_dict)\n",
    "eeg_dicts_all.print()"
   ],
   "metadata": {
    "collapsed": false,
    "pycharm": {
     "name": "#%% Create summary dictionaries for EEGLAB EEG.event\n"
    }
   }
  },
  {
   "cell_type": "code",
   "execution_count": 7,
   "outputs": [
    {
     "name": "stdout",
     "output_type": "stream",
     "text": [
      "Checking cond_code == trial_type and type == value\n"
     ]
    }
   ],
   "source": [
    "print(\"Checking cond_code == trial_type and type == value\")\n",
    "for key, file_eeg in eeg_file_dict.items():\n",
    "    eeg_dict = eeg_dicts[key]\n",
    "    bids_dict = bids_dicts[key]\n",
    "    eeg_type_dict = eeg_dict.categorical_info['type']\n",
    "    eeg_cond_dict = eeg_dict.categorical_info['cond_code']\n",
    "    eeg_code_dict = eeg_dict.categorical_info['event_code']\n",
    "    bids_value_dict = bids_dict.categorical_info['value']\n",
    "    bids_trial_type_dict = bids_dict.categorical_info['trial_type']\n",
    "    for key1, count_eeg in eeg_cond_dict.items():\n",
    "        count_orig = bids_trial_type_dict[key1]\n",
    "        if count_eeg != count_orig:\n",
    "            print(f\"EEG key {key} cond_code {count_eeg} != orig trial_type {count_orig}\")\n",
    "    for key1, count_eeg in eeg_type_dict.items():\n",
    "        count_orig = bids_value_dict[key1]\n",
    "        if count_eeg != count_orig:\n",
    "            print(f\"EEG key {key} type {count_eeg} != orig value {count_orig}\")"
   ],
   "metadata": {
    "collapsed": false,
    "pycharm": {
     "name": "#%%  Output some basic differences\n"
    }
   }
  },
  {
   "cell_type": "code",
   "execution_count": 14,
   "outputs": [
    {
     "name": "stdout",
     "output_type": "stream",
     "text": [
      "sub-001_run-01: has 0 disagreements:\n",
      "sub-002_run-01: has 0 disagreements:\n",
      "sub-003_run-01: has 0 disagreements:\n",
      "sub-004_run-01: has 0 disagreements:\n",
      "sub-004_run-02: has 0 disagreements:\n",
      "sub-005_run-01: has 0 disagreements:\n",
      "sub-006_run-01: has 0 disagreements:\n",
      "sub-007_run-01: has 0 disagreements:\n",
      "sub-008_run-01: has 0 disagreements:\n",
      "sub-009_run-01: has 0 disagreements:\n",
      "sub-010_run-01: has 0 disagreements:\n",
      "sub-011_run-01: has 0 disagreements:\n",
      "sub-012_run-01: has 0 disagreements:\n",
      "sub-013_run-01: has 0 disagreements:\n",
      "sub-014_run-01: has 0 disagreements:\n",
      "sub-015_run-01: has 0 disagreements:\n",
      "sub-016_run-01: has 0 disagreements:\n",
      "sub-017_run-01: has 0 disagreements:\n",
      "sub-018_run-01: has 0 disagreements:\n",
      "sub-019_run-01: has 0 disagreements:\n",
      "sub-020_run-01: has 0 disagreements:\n",
      "sub-020_run-02: has 0 disagreements:\n",
      "sub-021_run-01: has 0 disagreements:\n",
      "sub-021_run-02: has 0 disagreements:\n",
      "sub-022_run-01: has 0 disagreements:\n",
      "sub-022_run-02: has 0 disagreements:\n",
      "sub-023_run-01: has 0 disagreements:\n",
      "sub-024_run-01: has 0 disagreements:\n",
      "sub-025_run-01: has 0 disagreements:\n",
      "sub-026_run-01: has 0 disagreements:\n",
      "sub-027_run-01: has 0 disagreements:\n",
      "sub-028_run-01: has 0 disagreements:\n",
      "sub-028_run-02: has 0 disagreements:\n",
      "sub-029_run-01: has 0 disagreements:\n",
      "sub-030_run-01: has 0 disagreements:\n",
      "sub-031_run-01: has 0 disagreements:\n",
      "sub-032_run-01: has 0 disagreements:\n",
      "sub-033_run-01: has 0 disagreements:\n",
      "sub-034_run-01: has 0 disagreements:\n",
      "sub-035_run-01: has 0 disagreements:\n",
      "sub-036_run-01: has 0 disagreements:\n",
      "sub-036_run-02: has 0 disagreements:\n",
      "sub-037_run-01: has 0 disagreements:\n",
      "sub-038_run-01: has 0 disagreements:\n",
      "sub-039_run-01: has 0 disagreements:\n",
      "sub-040_run-01: has 0 disagreements:\n",
      "sub-041_run-01: has 0 disagreements:\n",
      "sub-042_run-01: has 0 disagreements:\n",
      "sub-043_run-01: has 0 disagreements:\n",
      "sub-044_run-01: has 0 disagreements:\n",
      "sub-045_run-01: has 0 disagreements:\n",
      "sub-046_run-01: has 0 disagreements:\n",
      "sub-047_run-01: has 0 disagreements:\n",
      "sub-048_run-01: has 0 disagreements:\n",
      "sub-049_run-01: has 0 disagreements:\n"
     ]
    }
   ],
   "source": [
    "for key, file in eeg_file_dict.items():\n",
    "    df_eeg = get_new_dataframe(file)\n",
    "    df_eeg.drop(['sample_offset', 'latency', 'urevent', 'usertags'], axis=1, inplace=True)\n",
    "    df_eeg['new_col'] = df_eeg['cond_code'].map(str) + df_eeg['event_code'].map(str)\n",
    "    trial_col = df_eeg['cond_code'].map(str) != '0'\n",
    "    pause_col = df_eeg['event_code'].map(str) != '202'\n",
    "    comp_col = df_eeg['new_col'].map(str) != df_eeg[\"type\"].map(str)\n",
    "    x = comp_col & trial_col & pause_col\n",
    "    print(f\"{key}: has {sum(x)} disagreements:\")\n",
    "    for index, value in x.iteritems():\n",
    "        if value:\n",
    "            row = df_eeg.loc[index]\n",
    "            print(f\"{index}: event_code:{row['event_code']} type:{row['type']} cond_code:{row['cond_code']}\")"
   ],
   "metadata": {
    "collapsed": false,
    "pycharm": {
     "name": "#%% Check that trial_type\n"
    }
   }
  },
  {
   "cell_type": "markdown",
   "source": [
    "Check that if the `event_code` is `202`, then the `type` is always 202."
   ],
   "metadata": {
    "collapsed": false,
    "pycharm": {
     "name": "#%% md\n"
    }
   }
  },
  {
   "cell_type": "code",
   "execution_count": 15,
   "outputs": [
    {
     "name": "stdout",
     "output_type": "stream",
     "text": [
      "sub-001_run-01: has 0 disagreements:\n",
      "sub-002_run-01: has 0 disagreements:\n",
      "sub-003_run-01: has 0 disagreements:\n",
      "sub-004_run-01: has 0 disagreements:\n",
      "sub-004_run-02: has 0 disagreements:\n",
      "sub-005_run-01: has 0 disagreements:\n",
      "sub-006_run-01: has 0 disagreements:\n",
      "sub-007_run-01: has 0 disagreements:\n",
      "sub-008_run-01: has 0 disagreements:\n",
      "sub-009_run-01: has 0 disagreements:\n",
      "sub-010_run-01: has 0 disagreements:\n",
      "sub-011_run-01: has 0 disagreements:\n",
      "sub-012_run-01: has 0 disagreements:\n",
      "sub-013_run-01: has 0 disagreements:\n",
      "sub-014_run-01: has 0 disagreements:\n",
      "sub-015_run-01: has 0 disagreements:\n",
      "sub-016_run-01: has 0 disagreements:\n",
      "sub-017_run-01: has 0 disagreements:\n",
      "sub-018_run-01: has 0 disagreements:\n",
      "sub-019_run-01: has 0 disagreements:\n",
      "sub-020_run-01: has 0 disagreements:\n",
      "sub-020_run-02: has 0 disagreements:\n",
      "sub-021_run-01: has 0 disagreements:\n",
      "sub-021_run-02: has 0 disagreements:\n",
      "sub-022_run-01: has 0 disagreements:\n",
      "sub-022_run-02: has 0 disagreements:\n",
      "sub-023_run-01: has 0 disagreements:\n",
      "sub-024_run-01: has 0 disagreements:\n",
      "sub-025_run-01: has 0 disagreements:\n",
      "sub-026_run-01: has 0 disagreements:\n",
      "sub-027_run-01: has 0 disagreements:\n",
      "sub-028_run-01: has 0 disagreements:\n",
      "sub-028_run-02: has 0 disagreements:\n",
      "sub-029_run-01: has 0 disagreements:\n",
      "sub-030_run-01: has 0 disagreements:\n",
      "sub-031_run-01: has 0 disagreements:\n",
      "sub-032_run-01: has 0 disagreements:\n",
      "sub-033_run-01: has 0 disagreements:\n",
      "sub-034_run-01: has 0 disagreements:\n",
      "sub-035_run-01: has 0 disagreements:\n",
      "sub-036_run-01: has 0 disagreements:\n",
      "sub-036_run-02: has 0 disagreements:\n",
      "sub-037_run-01: has 0 disagreements:\n",
      "sub-038_run-01: has 0 disagreements:\n",
      "sub-039_run-01: has 0 disagreements:\n",
      "sub-040_run-01: has 0 disagreements:\n",
      "sub-041_run-01: has 0 disagreements:\n",
      "sub-042_run-01: has 0 disagreements:\n",
      "sub-043_run-01: has 0 disagreements:\n",
      "sub-044_run-01: has 0 disagreements:\n",
      "sub-045_run-01: has 0 disagreements:\n",
      "sub-046_run-01: has 0 disagreements:\n",
      "sub-047_run-01: has 0 disagreements:\n",
      "sub-048_run-01: has 0 disagreements:\n",
      "sub-049_run-01: has 0 disagreements:\n"
     ]
    }
   ],
   "source": [
    "for key, file in eeg_file_dict.items():\n",
    "    df_eeg = get_new_dataframe(file)\n",
    "    df_eeg.drop(['sample_offset', 'latency', 'urevent', 'usertags'], axis=1, inplace=True)\n",
    "    pause_col = df_eeg['event_code'].map(str) == '202'\n",
    "    comp_col = df_eeg['event_code'].map(str) != df_eeg[\"type\"].map(str)\n",
    "    x = comp_col & pause_col\n",
    "    print(f\"{key}: has {sum(x)} disagreements:\")\n",
    "    for index, value in x.iteritems():\n",
    "        if value:\n",
    "            row = df_eeg.loc[index]\n",
    "            print(f\"{index}: event_code:{row['event_code']} type:{row['type']} cond_code:{row['cond_code']}\")"
   ],
   "metadata": {
    "collapsed": false,
    "pycharm": {
     "name": "#%% Check that trial_type\n"
    }
   }
  },
  {
   "cell_type": "markdown",
   "source": [
    "Check that if the `event_code` is always one of the valid headID event codes."
   ],
   "metadata": {
    "collapsed": false
   }
  },
  {
   "cell_type": "code",
   "execution_count": null,
   "outputs": [],
   "source": [
    "headIT_path = '../data/attention_shift/headIT_info.tsv'\n",
    "info_df = get_new_dataframe()"
   ],
   "metadata": {
    "collapsed": false,
    "pycharm": {
     "name": "#%%\n"
    }
   }
  }
 ],
 "metadata": {
  "kernelspec": {
   "display_name": "Python 3",
   "language": "python",
   "name": "python3"
  },
  "language_info": {
   "codemirror_mode": {
    "name": "ipython",
    "version": 2
   },
   "file_extension": ".py",
   "mimetype": "text/x-python",
   "name": "python",
   "nbconvert_exporter": "python",
   "pygments_lexer": "ipython2",
   "version": "2.7.6"
  }
 },
 "nbformat": 4,
 "nbformat_minor": 0
}