{
 "cells": [
  {
   "cell_type": "markdown",
   "metadata": {
    "collapsed": true,
    "pycharm": {
     "name": "#%% md\n"
    }
   },
   "source": [
    "## Remap events.\n",
    "This notebook demonstrates how to use HED tools to remap event files. The idea of\n",
    "remapping is that each unique combination of values in a set of **key** columns is\n",
    "mapped into a specified combination of values in a set of **target** columns.\n",
    "\n",
    "The example used in this notebook is a Sternberg memory dataset. A short dataset is:\n",
    "contained in the `data/sternberg` directory.  In the example, each value in the\n",
    "`type` column is mapped to a combination of values in the `event_type`, `task_role`,\n",
    "and `letter` columns. Since the event files don't contain these columns, the mapping\n",
    "inserts these columns as part of the mapping.\n"
   ]
  },
  {
   "cell_type": "markdown",
   "source": [
    "### Step 1: Read in a mapping that has already been created\n",
    "\n",
    "If you don't have a mapping for your data, you should use the\n",
    "`hed_evaluate_events.ipynb` notebook first. The following reads in\n",
    "the mapping designed to insert `event_type`, `task_role`,\n",
    "and `letter` columns corresponding to values in the `type` column.\n"
   ],
   "metadata": {
    "collapsed": false,
    "pycharm": {
     "name": "#%% md\n"
    }
   }
  },
  {
   "cell_type": "code",
   "source": [
    "import os\n",
    "from hed.tools import KeyMap\n",
    "key_cols = ['type']\n",
    "target_cols = ['event_type', 'task_role', 'letter']\n",
    "name = 'sternberg_remap'\n",
    "root_path = \"../data/sternberg\"\n",
    "remap_file = os.path.join(root_path, \"sternberg_map.tsv\")\n",
    "key_map = KeyMap(key_cols, target_cols, name)\n",
    "duplicates = key_map.update(remap_file)\n",
    "if duplicates:\n",
    "    print(f\"Warning: this mapping has {len(duplicates)} duplicate key entries\")"
   ],
   "metadata": {
    "collapsed": false,
    "pycharm": {
     "name": "#%% Load the event remapping\n"
    }
   },
   "execution_count": 1,
   "outputs": []
  },
  {
   "cell_type": "markdown",
   "source": [
    "### Step 2: Remap event files using the mapping\n",
    "\n",
    "Remapping consists of replacing/adding columns (in this case adding columns)."
   ],
   "metadata": {
    "collapsed": false,
    "pycharm": {
     "name": "#%% md\n"
    }
   }
  },
  {
   "cell_type": "code",
   "execution_count": 2,
   "outputs": [
    {
     "name": "stdout",
     "output_type": "stream",
     "text": [
      "Remapping ../data/sternberg\\sternberg_no_quotes_events.tsv...\n",
      "...Writing remapped file to remapped_sternberg_no_quotes_events.tsv\n",
      "Remapping ../data/sternberg\\sternberg_test_events.tsv...\n",
      "...Writing remapped file to remapped_sternberg_test_events.tsv\n",
      "Remapping ../data/sternberg\\sternberg_with_quotes_events.tsv...\n",
      "...Writing remapped file to remapped_sternberg_with_quotes_events.tsv\n"
     ]
    }
   ],
   "source": [
    "from hed.tools import generate_filename, get_file_list\n",
    "event_file_list = get_file_list(root_path, types=[\".tsv\"], suffix=\"_events\")\n",
    "\n",
    "for file in event_file_list:\n",
    "    print(f\"Remapping {file}...\")\n",
    "    df_new, missing = key_map.remap(file)\n",
    "    if missing:\n",
    "        print(f\"The keys {str(missing)} were not in the map for {file}\")\n",
    "    file_name = generate_filename(os.path.basename(file), prefix=\"remapped\", extension='.tsv')\n",
    "    print(f\"...Writing remapped file to {file_name}\")\n",
    "    df_new.to_csv(file_name, sep='\\t', index=False)"
   ],
   "metadata": {
    "collapsed": false,
    "pycharm": {
     "name": "#%% Remap the sternberg event files\n"
    }
   }
  }
 ],
 "metadata": {
  "kernelspec": {
   "display_name": "Python 3",
   "language": "python",
   "name": "python3"
  },
  "language_info": {
   "codemirror_mode": {
    "name": "ipython",
    "version": 2
   },
   "file_extension": ".py",
   "mimetype": "text/x-python",
   "name": "python",
   "nbconvert_exporter": "python",
   "pygments_lexer": "ipython2",
   "version": "2.7.6"
  }
 },
 "nbformat": 4,
 "nbformat_minor": 0
}