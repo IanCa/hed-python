{
 "cells": [
  {
   "cell_type": "markdown",
   "metadata": {
    "collapsed": true,
    "pycharm": {
     "name": "#%% md\n"
    }
   },
   "source": [
    "## Initial analysis of a BIDS dataset.\n",
    "This notebook works through the process analyzing the contents of the event files in\n",
    "a BIDS dataset and creating a template for remapping event codes if desired.\n",
    "\n",
    "The example used in this notebook is reduced version of an auditory attention shift\n",
    "dataset which is available at\n",
    "[https://github.com/hed-standard/hed-examples/data/eeg_ds0028932](https://github.com/hed-standard/hed-examples/data/eeg_ds0028932).\n",
    "\n",
    "To run this notebook, you will need download this dataset and set the `bids_root_path`\n",
    "variable to the local path."
   ]
  },
  {
   "cell_type": "markdown",
   "source": [
    "### Step 1: Assess the events\n",
    "\n",
    "The tools traverse through the BIDS data set and gathers the unique values for each\n",
    "column and number of times each value appears in the dataset. Usually, you will\n",
    "want to exclude the columns `onset`, `duration`, `sample`, and `HED` as the unique\n",
    "values in these columns are not meaningful.\n",
    "\n",
    "The next example traverses the directory tree to produce a list of event file paths."
   ],
   "metadata": {
    "collapsed": false,
    "pycharm": {
     "name": "#%% md\n"
    }
   }
  },
  {
   "cell_type": "code",
   "source": [
    "from hed.tools import get_file_list\n",
    "\n",
    "bids_root_path = \"D:/eeg_ds002893s\"\n",
    "#bids_root_path = \"G:\\AttentionShift\\AttentionShiftExperiments\"\n",
    "event_file_list = get_file_list(bids_root_path, types=[\".tsv\"], suffix=\"_events\")\n",
    "print(f\"Bids dataset {bids_root_path} has {len(event_file_list)} event files\")"
   ],
   "metadata": {
    "collapsed": false,
    "pycharm": {
     "name": "#%% Get a list of all event files in the BIDS dataset\n"
    }
   },
   "execution_count": 1,
   "outputs": [
    {
     "name": "stdout",
     "output_type": "stream",
     "text": [
      "Bids dataset D:/eeg_ds002893s has 6 event files\n"
     ]
    }
   ]
  },
  {
   "cell_type": "markdown",
   "source": [
    "The `event_file_list` of the previous example is then used as input to `get_key_counts`,\n",
    "a function that takes a root path and returns a dictionary. The keys of this top-level\n",
    "dictionary are the column names of the event files. The values are dictionaries of the\n",
    "unique values and their associated counts."
   ],
   "metadata": {
    "collapsed": false,
    "pycharm": {
     "name": "#%% md\n"
    }
   }
  },
  {
   "cell_type": "code",
   "execution_count": 2,
   "outputs": [
    {
     "name": "stdout",
     "output_type": "stream",
     "text": [
      "\n",
      "trial_type:\n",
      "\t1: 5456\n",
      "\t2: 6059\n",
      "\t3: 17712\n",
      "\n",
      "response_time:\n",
      "\tn/a: 29227\n",
      "\n",
      "stim_file:\n",
      "\tn/a: 29227\n",
      "\n",
      "value:\n",
      "\t11: 228\n",
      "\t12: 228\n",
      "\t13: 456\n",
      "\t14: 456\n",
      "\t15: 1822\n",
      "\t16: 1820\n",
      "\t21: 252\n",
      "\t22: 252\n",
      "\t23: 505\n",
      "\t24: 504\n",
      "\t25: 2010\n",
      "\t26: 2012\n",
      "\t28: 2\n",
      "\t31: 720\n",
      "\t32: 719\n",
      "\t37: 960\n",
      "\t38: 960\n",
      "\t39: 480\n",
      "\t202: 72\n",
      "\t212: 3\n",
      "\t310: 480\n",
      "\t311: 3838\n",
      "\t312: 3832\n",
      "\t313: 1920\n",
      "\t314: 1915\n",
      "\t1201: 433\n",
      "\t2201: 502\n",
      "\t3201: 1846\n"
     ]
    }
   ],
   "source": [
    "from hed.tools import get_key_counts, print_columns_info\n",
    "\n",
    "column_names_to_skip = [\"onset\", \"duration\", \"sample\", \"HED\"]\n",
    "count_dicts = get_key_counts(bids_root_path, skip_cols=column_names_to_skip)\n",
    "print_columns_info(count_dicts, skip_cols=None)"
   ],
   "metadata": {
    "collapsed": false,
    "pycharm": {
     "name": "#%% Count the unique values in the datset BIDS event file columns.\n"
    }
   }
  },
  {
   "cell_type": "markdown",
   "source": [
    "For finding the number of times a unique combination of column values appears,\n",
    "use the `KeyDict` class.  In the following example, We use the same list of\n",
    "files as in the previous example but count the number of times each unique\n",
    "combinations of values that appear in the `value` and `trial_type` columns."
   ],
   "metadata": {
    "collapsed": false,
    "pycharm": {
     "name": "#%% md\n"
    }
   }
  },
  {
   "cell_type": "code",
   "execution_count": 3,
   "outputs": [
    {
     "name": "stdout",
     "output_type": "stream",
     "text": [
      "Counts for key [['value', 'trial_type']]:\n",
      "[11, 1]\t228\n",
      "[12, 1]\t228\n",
      "[13, 1]\t456\n",
      "[14, 1]\t456\n",
      "[15, 1]\t1822\n",
      "[16, 1]\t1820\n",
      "[21, 2]\t252\n",
      "[22, 2]\t252\n",
      "[23, 2]\t505\n",
      "[24, 2]\t504\n",
      "[25, 2]\t2010\n",
      "[26, 2]\t2012\n",
      "[28, 2]\t2\n",
      "[31, 3]\t720\n",
      "[32, 3]\t719\n",
      "[37, 3]\t960\n",
      "[38, 3]\t960\n",
      "[39, 3]\t480\n",
      "[202, 1]\t13\n",
      "[202, 2]\t17\n",
      "[202, 3]\t42\n",
      "[212, 2]\t3\n",
      "[310, 3]\t480\n",
      "[311, 3]\t3838\n",
      "[312, 3]\t3832\n",
      "[313, 3]\t1920\n",
      "[314, 3]\t1915\n",
      "[1201, 1]\t433\n",
      "[2201, 2]\t502\n",
      "[3201, 3]\t1846\n"
     ]
    }
   ],
   "source": [
    "from hed.tools import KeyDict\n",
    "key_counts = KeyDict([\"value\", \"trial_type\"])\n",
    "for file in event_file_list:\n",
    "    key_counts.update(file)\n",
    "key_counts.resort()\n",
    "key_counts.print()"
   ],
   "metadata": {
    "collapsed": false,
    "pycharm": {
     "name": "#%% Use KeyDict to get the counts for a combination of keys.\n"
    }
   }
  },
  {
   "cell_type": "markdown",
   "source": [
    "### Step 2: Make a template for remapping existing event values\n",
    "\n",
    "If you decide to recode your events, you will need to create a template for doing the\n",
    "remapping. The following code creates a data frame template and writes it as a `.tsv`.\n",
    "\n",
    "In this case we decided to recode the events files so that each unique combination of\n",
    "[`value`, `trial_type`] will be translated into a specific combination of the new columns\n",
    "[`event_type`, `task_role`, `shift_cond`].\n",
    "\n",
    "The template will consist of the 5 columns: [`value`, `trial_type`, `event_type`,\n",
    "`task_role`, `shift_cond`] representing this association. The template is output."
   ],
   "metadata": {
    "collapsed": false
   }
  },
  {
   "cell_type": "code",
   "execution_count": 4,
   "outputs": [],
   "source": [
    "import os\n",
    "df = key_counts.make_template(additional_cols=[\"event_type\", \"task_role\"])\n",
    "template_file = os.path.join(bids_root_path, \"event_template.tsv\")\n",
    "df.to_csv(template_file, sep='\\t', index=False)"
   ],
   "metadata": {
    "collapsed": false,
    "pycharm": {
     "name": "#%% Create DataFrame containing a template based specified columns and values\n"
    }
   }
  },
  {
   "cell_type": "markdown",
   "source": [
    "### Step 3: Fill in the template the mapping\n",
    "\n",
    "The creation of a template for remapping the events is part of the event design.\n",
    "Once this template has been filled in, HED has remapping tools to perform the remap."
   ],
   "metadata": {
    "collapsed": false
   }
  }
 ],
 "metadata": {
  "kernelspec": {
   "display_name": "Python 3",
   "language": "python",
   "name": "python3"
  },
  "language_info": {
   "codemirror_mode": {
    "name": "ipython",
    "version": 2
   },
   "file_extension": ".py",
   "mimetype": "text/x-python",
   "name": "python",
   "nbconvert_exporter": "python",
   "pygments_lexer": "ipython2",
   "version": "2.7.6"
  }
 },
 "nbformat": 4,
 "nbformat_minor": 0
}