{
 "cells": [
  {
   "cell_type": "markdown",
   "metadata": {
    "collapsed": true,
    "pycharm": {
     "name": "#%% md\n"
    }
   },
   "source": [
    "## Initial analysis of a BIDS dataset events.\n",
    "The first step in annotating a BIDS dataset is to find out what is in the dataset\n",
    "event files. \n",
    "\n",
    "The example used in this notebook is reduced version of an auditory attention shift\n",
    "dataset which is available at\n",
    "[https://github.com/hed-standard/hed-examples/data/eeg_ds0028932](https://github.com/hed-standard/hed-examples/data/eeg_ds0028932).\n",
    "\n",
    "To run this notebook, you will need download this dataset and set the `bids_root_path`\n",
    "variable to the local path of the dataset's root directory."
   ]
  },
  {
   "cell_type": "markdown",
   "source": [
    "### Assess the events\n",
    "\n",
    "The tools traverse through the BIDS data set and gathers the unique values for each\n",
    "column and number of times each value appears in the dataset. Usually, you will\n",
    "want to exclude the columns `onset`, `duration`, `sample`, and `HED` as the unique\n",
    "values in these columns are not meaningful."
   ],
   "metadata": {
    "collapsed": false,
    "pycharm": {
     "name": "#%% md\n"
    }
   }
  },
  {
   "cell_type": "code",
   "source": [
    "bids_root_path = \"D:/eeg_ds002893s\""
   ],
   "metadata": {
    "collapsed": false,
    "pycharm": {
     "name": "#%% Set up the variables for the dataset\n"
    }
   },
   "execution_count": 1,
   "outputs": []
  },
  {
   "cell_type": "markdown",
   "source": [
    "The next example recursively traverses the directory tree and produces\n",
    "a list of the full paths of the dataset event files. Event files have\n",
    "extension `.tsv` and the file names end with `_events`.  You may wish\n",
    "to check the returned list to verify that the expected event files\n",
    "are in the dataset."
   ],
   "metadata": {
    "collapsed": false,
    "pycharm": {
     "name": "#%% md\n"
    }
   }
  },
  {
   "cell_type": "code",
   "execution_count": 2,
   "outputs": [
    {
     "name": "stdout",
     "output_type": "stream",
     "text": [
      "Bids dataset D:/eeg_ds002893s has 6 event files\n"
     ]
    }
   ],
   "source": [
    "from hed.tools import get_file_list\n",
    "event_file_list = get_file_list(bids_root_path, types=[\".tsv\"], suffix=\"_events\")\n",
    "print(f\"Bids dataset {bids_root_path} has {len(event_file_list)} event files\")"
   ],
   "metadata": {
    "collapsed": false,
    "pycharm": {
     "name": "#%% Find out how many event files are in the dataset.\n"
    }
   }
  },
  {
   "cell_type": "markdown",
   "source": [
    "The HED tools provide functions for analyzing the contents of the event files.\n",
    "In order to HED tag the datasets, we will need to know the different\n",
    "categorical values present in the dataset. The `ColumnDict` class provides\n",
    "basic facilities for analyzing the contents and for making template files."
   ],
   "metadata": {
    "collapsed": false,
    "pycharm": {
     "name": "#%% md\n"
    }
   }
  },
  {
   "cell_type": "code",
   "execution_count": 3,
   "outputs": [
    {
     "name": "stdout",
     "output_type": "stream",
     "text": [
      "Summary for column dictionary AttentionShiftShort:\n",
      "  Categorical columns (4):\n",
      "    response_time (1 distinct values):\n",
      "      n/a: 29227\n",
      "    stim_file (1 distinct values):\n",
      "      n/a: 29227\n",
      "    trial_type (3 distinct values):\n",
      "      1: 5456\n",
      "      2: 6059\n",
      "      3: 17712\n",
      "    value (28 distinct values):\n",
      "      11: 228\n",
      "      12: 228\n",
      "      13: 456\n",
      "      14: 456\n",
      "      15: 1822\n",
      "      16: 1820\n",
      "      21: 252\n",
      "      22: 252\n",
      "      23: 505\n",
      "      24: 504\n",
      "      25: 2010\n",
      "      26: 2012\n",
      "      28: 2\n",
      "      31: 720\n",
      "      32: 719\n",
      "      37: 960\n",
      "      38: 960\n",
      "      39: 480\n",
      "      202: 72\n",
      "      212: 3\n",
      "      310: 480\n",
      "      311: 3838\n",
      "      312: 3832\n",
      "      313: 1920\n",
      "      314: 1915\n",
      "      1201: 433\n",
      "      2201: 502\n",
      "      3201: 1846\n",
      "  Value columns (0):\n"
     ]
    }
   ],
   "source": [
    "from hed.tools import ColumnDict\n",
    "column_names_to_skip = [\"onset\", \"duration\", \"sample\", \"HED\"]\n",
    "col_dict = ColumnDict(skip_cols=column_names_to_skip, name='AttentionShiftShort')\n",
    "for file in event_file_list:\n",
    "    col_dict.update(file)\n",
    "col_dict.print()"
   ],
   "metadata": {
    "collapsed": false,
    "pycharm": {
     "name": "#%% Count the unique values in the BIDS dataset event file columns.\n"
    }
   }
  },
  {
   "cell_type": "markdown",
   "source": [
    "The previous example collates the information for all of the event files.\n",
    "If you want the results of the individual files, you can create a\n",
    "`ColumnDict` for each file individually and use the `update_dict` to\n",
    "create a summary `ColumnDict`."
   ],
   "metadata": {
    "collapsed": false,
    "pycharm": {
     "name": "#%% md\n"
    }
   }
  },
  {
   "cell_type": "code",
   "execution_count": 4,
   "outputs": [
    {
     "name": "stdout",
     "output_type": "stream",
     "text": [
      "Summary for column dictionary D:/eeg_ds002893s\\sub-001\\eeg\\sub-001_task-AuditoryVisualShift_run-01_events.tsv:\n",
      "  Categorical columns (4):\n",
      "    response_time (1 distinct values):\n",
      "      n/a: 5856\n",
      "    stim_file (1 distinct values):\n",
      "      n/a: 5856\n",
      "    trial_type (3 distinct values):\n",
      "      1: 1155\n",
      "      2: 1153\n",
      "      3: 3548\n",
      "    value (26 distinct values):\n",
      "      11: 48\n",
      "      12: 48\n",
      "      13: 96\n",
      "      14: 96\n",
      "      15: 383\n",
      "      16: 383\n",
      "      21: 48\n",
      "      22: 48\n",
      "      23: 96\n",
      "      24: 96\n",
      "      25: 384\n",
      "      26: 384\n",
      "      31: 144\n",
      "      32: 143\n",
      "      37: 192\n",
      "      38: 192\n",
      "      39: 96\n",
      "      202: 6\n",
      "      310: 96\n",
      "      311: 767\n",
      "      312: 766\n",
      "      313: 384\n",
      "      314: 382\n",
      "      1201: 100\n",
      "      2201: 95\n",
      "      3201: 383\n",
      "  Value columns (0):\n",
      "Summary for column dictionary D:/eeg_ds002893s\\sub-002\\eeg\\sub-002_task-AuditoryVisualShift_run-01_events.tsv:\n",
      "  Categorical columns (4):\n",
      "    response_time (1 distinct values):\n",
      "      n/a: 5874\n",
      "    stim_file (1 distinct values):\n",
      "      n/a: 5874\n",
      "    trial_type (3 distinct values):\n",
      "      1: 1154\n",
      "      2: 1154\n",
      "      3: 3566\n",
      "    value (26 distinct values):\n",
      "      11: 48\n",
      "      12: 48\n",
      "      13: 96\n",
      "      14: 96\n",
      "      15: 384\n",
      "      16: 383\n",
      "      21: 48\n",
      "      22: 48\n",
      "      23: 96\n",
      "      24: 96\n",
      "      25: 383\n",
      "      26: 383\n",
      "      31: 144\n",
      "      32: 144\n",
      "      37: 192\n",
      "      38: 192\n",
      "      39: 96\n",
      "      202: 20\n",
      "      310: 96\n",
      "      311: 767\n",
      "      312: 767\n",
      "      313: 384\n",
      "      314: 384\n",
      "      1201: 95\n",
      "      2201: 96\n",
      "      3201: 388\n",
      "  Value columns (0):\n",
      "Summary for column dictionary D:/eeg_ds002893s\\sub-003\\eeg\\sub-003_task-AuditoryVisualShift_run-01_events.tsv:\n",
      "  Categorical columns (4):\n",
      "    response_time (1 distinct values):\n",
      "      n/a: 5867\n",
      "    stim_file (1 distinct values):\n",
      "      n/a: 5867\n",
      "    trial_type (3 distinct values):\n",
      "      1: 864\n",
      "      2: 1443\n",
      "      3: 3560\n",
      "    value (26 distinct values):\n",
      "      11: 36\n",
      "      12: 36\n",
      "      13: 72\n",
      "      14: 72\n",
      "      15: 288\n",
      "      16: 287\n",
      "      21: 60\n",
      "      22: 60\n",
      "      23: 120\n",
      "      24: 120\n",
      "      25: 478\n",
      "      26: 480\n",
      "      31: 144\n",
      "      32: 144\n",
      "      37: 192\n",
      "      38: 192\n",
      "      39: 96\n",
      "      202: 20\n",
      "      310: 96\n",
      "      311: 769\n",
      "      312: 766\n",
      "      313: 384\n",
      "      314: 383\n",
      "      1201: 70\n",
      "      2201: 120\n",
      "      3201: 382\n",
      "  Value columns (0):\n",
      "Summary for column dictionary D:/eeg_ds002893s\\sub-004\\eeg\\sub-004_task-AuditoryVisualShift_run-01_events.tsv:\n",
      "  Categorical columns (4):\n",
      "    response_time (1 distinct values):\n",
      "      n/a: 289\n",
      "    stim_file (1 distinct values):\n",
      "      n/a: 289\n",
      "    trial_type (1 distinct values):\n",
      "      2: 289\n",
      "    value (8 distinct values):\n",
      "      21: 12\n",
      "      22: 12\n",
      "      23: 24\n",
      "      24: 24\n",
      "      25: 96\n",
      "      26: 96\n",
      "      202: 1\n",
      "      2201: 24\n",
      "  Value columns (0):\n",
      "Summary for column dictionary D:/eeg_ds002893s\\sub-004\\eeg\\sub-004_task-AuditoryVisualShift_run-02_events.tsv:\n",
      "  Categorical columns (4):\n",
      "    response_time (1 distinct values):\n",
      "      n/a: 5572\n",
      "    stim_file (1 distinct values):\n",
      "      n/a: 5572\n",
      "    trial_type (3 distinct values):\n",
      "      1: 1156\n",
      "      2: 867\n",
      "      3: 3549\n",
      "    value (26 distinct values):\n",
      "      11: 48\n",
      "      12: 48\n",
      "      13: 96\n",
      "      14: 96\n",
      "      15: 384\n",
      "      16: 384\n",
      "      21: 36\n",
      "      22: 36\n",
      "      23: 72\n",
      "      24: 72\n",
      "      25: 288\n",
      "      26: 288\n",
      "      31: 144\n",
      "      32: 144\n",
      "      37: 192\n",
      "      38: 192\n",
      "      39: 96\n",
      "      202: 19\n",
      "      310: 96\n",
      "      311: 768\n",
      "      312: 766\n",
      "      313: 384\n",
      "      314: 382\n",
      "      1201: 96\n",
      "      2201: 72\n",
      "      3201: 373\n",
      "  Value columns (0):\n",
      "Summary for column dictionary D:/eeg_ds002893s\\sub-005\\eeg\\sub-005_task-AuditoryVisualShift_run-01_events.tsv:\n",
      "  Categorical columns (4):\n",
      "    response_time (1 distinct values):\n",
      "      n/a: 5769\n",
      "    stim_file (1 distinct values):\n",
      "      n/a: 5769\n",
      "    trial_type (3 distinct values):\n",
      "      1: 1127\n",
      "      2: 1153\n",
      "      3: 3489\n",
      "    value (28 distinct values):\n",
      "      11: 48\n",
      "      12: 48\n",
      "      13: 96\n",
      "      14: 96\n",
      "      15: 383\n",
      "      16: 383\n",
      "      21: 48\n",
      "      22: 48\n",
      "      23: 97\n",
      "      24: 96\n",
      "      25: 381\n",
      "      26: 381\n",
      "      28: 2\n",
      "      31: 144\n",
      "      32: 144\n",
      "      37: 192\n",
      "      38: 192\n",
      "      39: 96\n",
      "      202: 6\n",
      "      212: 3\n",
      "      310: 96\n",
      "      311: 767\n",
      "      312: 767\n",
      "      313: 384\n",
      "      314: 384\n",
      "      1201: 72\n",
      "      2201: 95\n",
      "      3201: 320\n",
      "  Value columns (0):\n",
      "Summary for column dictionary AttentionShiftWithTotals:\n",
      "  Categorical columns (4):\n",
      "    response_time (1 distinct values):\n",
      "      n/a: 29227\n",
      "    stim_file (1 distinct values):\n",
      "      n/a: 29227\n",
      "    trial_type (3 distinct values):\n",
      "      1: 5456\n",
      "      2: 6059\n",
      "      3: 17712\n",
      "    value (28 distinct values):\n",
      "      11: 228\n",
      "      12: 228\n",
      "      13: 456\n",
      "      14: 456\n",
      "      15: 1822\n",
      "      16: 1820\n",
      "      21: 252\n",
      "      22: 252\n",
      "      23: 505\n",
      "      24: 504\n",
      "      25: 2010\n",
      "      26: 2012\n",
      "      28: 2\n",
      "      31: 720\n",
      "      32: 719\n",
      "      37: 960\n",
      "      38: 960\n",
      "      39: 480\n",
      "      202: 72\n",
      "      212: 3\n",
      "      310: 480\n",
      "      311: 3838\n",
      "      312: 3832\n",
      "      313: 1920\n",
      "      314: 1915\n",
      "      1201: 433\n",
      "      2201: 502\n",
      "      3201: 1846\n",
      "  Value columns (0):\n"
     ]
    }
   ],
   "source": [
    "from hed.tools import ColumnDict\n",
    "column_names_to_skip = [\"onset\", \"duration\", \"sample\", \"HED\"]\n",
    "col_dict_all = ColumnDict(skip_cols=column_names_to_skip, name='AttentionShiftWithTotals')\n",
    "for file in event_file_list:\n",
    "    col_dict = ColumnDict(skip_cols=column_names_to_skip, name=file)\n",
    "    col_dict.update(file)\n",
    "    col_dict.print()\n",
    "    col_dict_all.update_dict(col_dict)\n",
    "col_dict_all.print()"
   ],
   "metadata": {
    "collapsed": false,
    "pycharm": {
     "name": "#%% Count the unique values in the BIDS dataset event file columns.\n"
    }
   }
  }
 ],
 "metadata": {
  "kernelspec": {
   "display_name": "Python 3",
   "language": "python",
   "name": "python3"
  },
  "language_info": {
   "codemirror_mode": {
    "name": "ipython",
    "version": 2
   },
   "file_extension": ".py",
   "mimetype": "text/x-python",
   "name": "python",
   "nbconvert_exporter": "python",
   "pygments_lexer": "ipython2",
   "version": "2.7.6"
  }
 },
 "nbformat": 4,
 "nbformat_minor": 0
}