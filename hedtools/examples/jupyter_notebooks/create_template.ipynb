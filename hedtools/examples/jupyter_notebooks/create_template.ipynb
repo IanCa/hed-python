{
 "cells": [
  {
   "cell_type": "markdown",
   "metadata": {
    "collapsed": true,
    "pycharm": {
     "name": "#%% md\n"
    }
   },
   "source": [
    "## Create a template for event remapping.\n",
    "This notebook works through the process analyzing the contents of the event files in\n",
    "a BIDS dataset and creating a template for remapping event codes.\n",
    "\n",
    "The example used in this notebook is reduced version of an auditory attention shift\n",
    "dataset which is available at\n",
    "[https://github.com/hed-standard/hed-examples/data/eeg_ds0028932](https://github.com/hed-standard/hed-examples/data/eeg_ds0028932).\n",
    "To run this notebook, you will need download this dataset and set the `bids_root_path`\n",
    "variable to the local path.\n",
    "\n",
    "The goal is to remap each combination in the key columns [`value`, `trial_type`]\n",
    "into a new combination in the target columns [`event_type`, `task_role`, `shift_cond`]\n",
    "in order to have a more orthogonal event design and make the meanings of contents\n",
    "of the event file more clear.\n",
    "\n"
   ]
  },
  {
   "cell_type": "code",
   "source": [
    "# bids_root_path = \"G:/AttentionShift/AttentionShiftExperiments\"\n",
    "bids_root_path = \"D:/eeg_ds002893s\"\n",
    "key_columns = [\"value\", \"trial_type\"]\n",
    "target_columns = [\"event_type\", \"task_role\", \"shift_cond\"]\n"
   ],
   "metadata": {
    "collapsed": false,
    "pycharm": {
     "name": "#%% Set up the variables for the dataset\n"
    }
   },
   "execution_count": 1,
   "outputs": []
  },
  {
   "cell_type": "markdown",
   "source": [
    "The next example traverses the directory tree to produce a list of event file paths."
   ],
   "metadata": {
    "collapsed": false,
    "pycharm": {
     "name": "#%% md\n"
    }
   }
  },
  {
   "cell_type": "code",
   "execution_count": 2,
   "outputs": [
    {
     "name": "stdout",
     "output_type": "stream",
     "text": [
      "Bids dataset D:/eeg_ds002893s has 6 event files\n"
     ]
    }
   ],
   "source": [
    "from hed.tools import get_file_list\n",
    "event_files = get_file_list(bids_root_path, types=[\".tsv\"], suffix=\"_events\")\n",
    "print(f\"Bids dataset {bids_root_path} has {len(event_files)} event files\")"
   ],
   "metadata": {
    "collapsed": false,
    "pycharm": {
     "name": "#%% Get a list of all event files in the BIDS dataset\n"
    }
   }
  },
  {
   "cell_type": "markdown",
   "source": [
    "### Find the unique value combinations in a list of event columns\n",
    "\n",
    "The tools traverse through the BIDS data set and gathers the unique combinations of\n",
    "values in the key columns [`value`, `trial_type`].\n",
    "\n",
    "If you just want a summary of the unique values in individual columns of all\n",
    "event files, use the `ColumnDict` class as illustrated in notebook\n",
    "`summarize_events.ipynb`.\n",
    "\n",
    "use the `KeyTemplate` class to find the unique value combinations of a list of columns.\n",
    "In the following example, We use the same list of files as in the `summarize_events.ipynb`\n",
    "notebook, but count the number of times each unique\n",
    "combinations of values that appear in the `value` and `trial_type` columns."
   ],
   "metadata": {
    "collapsed": false
   }
  },
  {
   "cell_type": "code",
   "execution_count": 3,
   "outputs": [
    {
     "name": "stdout",
     "output_type": "stream",
     "text": [
      "Counts for key [['value', 'trial_type']]:\n",
      "[11, 1]\t228\n",
      "[12, 1]\t228\n",
      "[13, 1]\t456\n",
      "[14, 1]\t456\n",
      "[15, 1]\t1822\n",
      "[16, 1]\t1820\n",
      "[21, 2]\t252\n",
      "[22, 2]\t252\n",
      "[23, 2]\t505\n",
      "[24, 2]\t504\n",
      "[25, 2]\t2010\n",
      "[26, 2]\t2012\n",
      "[28, 2]\t2\n",
      "[31, 3]\t720\n",
      "[32, 3]\t719\n",
      "[37, 3]\t960\n",
      "[38, 3]\t960\n",
      "[39, 3]\t480\n",
      "[202, 1]\t13\n",
      "[202, 2]\t17\n",
      "[202, 3]\t42\n",
      "[212, 2]\t3\n",
      "[310, 3]\t480\n",
      "[311, 3]\t3838\n",
      "[312, 3]\t3832\n",
      "[313, 3]\t1920\n",
      "[314, 3]\t1915\n",
      "[1201, 1]\t433\n",
      "[2201, 2]\t502\n",
      "[3201, 3]\t1846\n"
     ]
    }
   ],
   "source": [
    "from hed.tools import KeyTemplate\n",
    "template = KeyTemplate(key_columns)\n",
    "for file in event_files:\n",
    "    template.update(file)\n",
    "template.resort()\n",
    "template.print()"
   ],
   "metadata": {
    "collapsed": false,
    "pycharm": {
     "name": "#%% Use KeyTemplate to get the counts for each unique combination of key columns.\n"
    }
   }
  },
  {
   "cell_type": "markdown",
   "source": [
    "### Make a template for remapping existing event values\n",
    "\n",
    "If you decide to recode your events, you will need to create a template for doing the\n",
    "remapping. The following code creates a data frame template and writes it as a `.tsv`.\n",
    "\n",
    "In this case we decided to recode the events files so that each unique combination of\n",
    "the key columns (e.g., [`value`, `trial_type`] in our example) will be translated\n",
    "into a specific combination of the new columns [`event_type`, `task_role`, `shift_cond`].\n",
    "\n",
    "The final template will consist of the 5 columns: [`value`, `trial_type`, `event_type`,\n",
    "`task_role`, `shift_cond`] representing this association. The template is output."
   ],
   "metadata": {
    "collapsed": false
   }
  },
  {
   "cell_type": "code",
   "execution_count": 4,
   "outputs": [
    {
     "ename": "PermissionError",
     "evalue": "[Errno 13] Permission denied: 'D:/eeg_ds002893s\\\\event_template.tsv'",
     "output_type": "error",
     "traceback": [
      "\u001B[1;31m---------------------------------------------------------------------------\u001B[0m",
      "\u001B[1;31mPermissionError\u001B[0m                           Traceback (most recent call last)",
      "\u001B[1;32m~\\AppData\\Local\\Temp/ipykernel_38184/2155886690.py\u001B[0m in \u001B[0;36m<module>\u001B[1;34m\u001B[0m\n\u001B[0;32m      2\u001B[0m \u001B[0mdf\u001B[0m \u001B[1;33m=\u001B[0m \u001B[0mtemplate\u001B[0m\u001B[1;33m.\u001B[0m\u001B[0mmake_template\u001B[0m\u001B[1;33m(\u001B[0m\u001B[0madditional_cols\u001B[0m\u001B[1;33m=\u001B[0m\u001B[0mtarget_columns\u001B[0m\u001B[1;33m)\u001B[0m\u001B[1;33m\u001B[0m\u001B[1;33m\u001B[0m\u001B[0m\n\u001B[0;32m      3\u001B[0m \u001B[0mtemplate_file\u001B[0m \u001B[1;33m=\u001B[0m \u001B[0mos\u001B[0m\u001B[1;33m.\u001B[0m\u001B[0mpath\u001B[0m\u001B[1;33m.\u001B[0m\u001B[0mjoin\u001B[0m\u001B[1;33m(\u001B[0m\u001B[0mbids_root_path\u001B[0m\u001B[1;33m,\u001B[0m \u001B[1;34m\"event_template.tsv\"\u001B[0m\u001B[1;33m)\u001B[0m\u001B[1;33m\u001B[0m\u001B[1;33m\u001B[0m\u001B[0m\n\u001B[1;32m----> 4\u001B[1;33m \u001B[0mdf\u001B[0m\u001B[1;33m.\u001B[0m\u001B[0mto_csv\u001B[0m\u001B[1;33m(\u001B[0m\u001B[0mtemplate_file\u001B[0m\u001B[1;33m,\u001B[0m \u001B[0msep\u001B[0m\u001B[1;33m=\u001B[0m\u001B[1;34m'\\t'\u001B[0m\u001B[1;33m,\u001B[0m \u001B[0mindex\u001B[0m\u001B[1;33m=\u001B[0m\u001B[1;32mFalse\u001B[0m\u001B[1;33m)\u001B[0m\u001B[1;33m\u001B[0m\u001B[1;33m\u001B[0m\u001B[0m\n\u001B[0m\u001B[0;32m      5\u001B[0m \u001B[1;33m\u001B[0m\u001B[0m\n",
      "\u001B[1;32md:\\research\\hedpython\\hed-python\\hedtools\\venv\\lib\\site-packages\\pandas\\core\\generic.py\u001B[0m in \u001B[0;36mto_csv\u001B[1;34m(self, path_or_buf, sep, na_rep, float_format, columns, header, index, index_label, mode, encoding, compression, quoting, quotechar, line_terminator, chunksize, date_format, doublequote, escapechar, decimal, errors, storage_options)\u001B[0m\n\u001B[0;32m   3480\u001B[0m             \u001B[0mdoublequote\u001B[0m\u001B[1;33m=\u001B[0m\u001B[0mdoublequote\u001B[0m\u001B[1;33m,\u001B[0m\u001B[1;33m\u001B[0m\u001B[1;33m\u001B[0m\u001B[0m\n\u001B[0;32m   3481\u001B[0m             \u001B[0mescapechar\u001B[0m\u001B[1;33m=\u001B[0m\u001B[0mescapechar\u001B[0m\u001B[1;33m,\u001B[0m\u001B[1;33m\u001B[0m\u001B[1;33m\u001B[0m\u001B[0m\n\u001B[1;32m-> 3482\u001B[1;33m             \u001B[0mstorage_options\u001B[0m\u001B[1;33m=\u001B[0m\u001B[0mstorage_options\u001B[0m\u001B[1;33m,\u001B[0m\u001B[1;33m\u001B[0m\u001B[1;33m\u001B[0m\u001B[0m\n\u001B[0m\u001B[0;32m   3483\u001B[0m         )\n\u001B[0;32m   3484\u001B[0m \u001B[1;33m\u001B[0m\u001B[0m\n",
      "\u001B[1;32md:\\research\\hedpython\\hed-python\\hedtools\\venv\\lib\\site-packages\\pandas\\io\\formats\\format.py\u001B[0m in \u001B[0;36mto_csv\u001B[1;34m(self, path_or_buf, encoding, sep, columns, index_label, mode, compression, quoting, quotechar, line_terminator, chunksize, date_format, doublequote, escapechar, errors, storage_options)\u001B[0m\n\u001B[0;32m   1103\u001B[0m             \u001B[0mformatter\u001B[0m\u001B[1;33m=\u001B[0m\u001B[0mself\u001B[0m\u001B[1;33m.\u001B[0m\u001B[0mfmt\u001B[0m\u001B[1;33m,\u001B[0m\u001B[1;33m\u001B[0m\u001B[1;33m\u001B[0m\u001B[0m\n\u001B[0;32m   1104\u001B[0m         )\n\u001B[1;32m-> 1105\u001B[1;33m         \u001B[0mcsv_formatter\u001B[0m\u001B[1;33m.\u001B[0m\u001B[0msave\u001B[0m\u001B[1;33m(\u001B[0m\u001B[1;33m)\u001B[0m\u001B[1;33m\u001B[0m\u001B[1;33m\u001B[0m\u001B[0m\n\u001B[0m\u001B[0;32m   1106\u001B[0m \u001B[1;33m\u001B[0m\u001B[0m\n\u001B[0;32m   1107\u001B[0m         \u001B[1;32mif\u001B[0m \u001B[0mcreated_buffer\u001B[0m\u001B[1;33m:\u001B[0m\u001B[1;33m\u001B[0m\u001B[1;33m\u001B[0m\u001B[0m\n",
      "\u001B[1;32md:\\research\\hedpython\\hed-python\\hedtools\\venv\\lib\\site-packages\\pandas\\io\\formats\\csvs.py\u001B[0m in \u001B[0;36msave\u001B[1;34m(self)\u001B[0m\n\u001B[0;32m    241\u001B[0m             \u001B[0merrors\u001B[0m\u001B[1;33m=\u001B[0m\u001B[0mself\u001B[0m\u001B[1;33m.\u001B[0m\u001B[0merrors\u001B[0m\u001B[1;33m,\u001B[0m\u001B[1;33m\u001B[0m\u001B[1;33m\u001B[0m\u001B[0m\n\u001B[0;32m    242\u001B[0m             \u001B[0mcompression\u001B[0m\u001B[1;33m=\u001B[0m\u001B[0mself\u001B[0m\u001B[1;33m.\u001B[0m\u001B[0mcompression\u001B[0m\u001B[1;33m,\u001B[0m\u001B[1;33m\u001B[0m\u001B[1;33m\u001B[0m\u001B[0m\n\u001B[1;32m--> 243\u001B[1;33m             \u001B[0mstorage_options\u001B[0m\u001B[1;33m=\u001B[0m\u001B[0mself\u001B[0m\u001B[1;33m.\u001B[0m\u001B[0mstorage_options\u001B[0m\u001B[1;33m,\u001B[0m\u001B[1;33m\u001B[0m\u001B[1;33m\u001B[0m\u001B[0m\n\u001B[0m\u001B[0;32m    244\u001B[0m         ) as handles:\n\u001B[0;32m    245\u001B[0m \u001B[1;33m\u001B[0m\u001B[0m\n",
      "\u001B[1;32md:\\research\\hedpython\\hed-python\\hedtools\\venv\\lib\\site-packages\\pandas\\io\\common.py\u001B[0m in \u001B[0;36mget_handle\u001B[1;34m(path_or_buf, mode, encoding, compression, memory_map, is_text, errors, storage_options)\u001B[0m\n\u001B[0;32m    705\u001B[0m                 \u001B[0mencoding\u001B[0m\u001B[1;33m=\u001B[0m\u001B[0mioargs\u001B[0m\u001B[1;33m.\u001B[0m\u001B[0mencoding\u001B[0m\u001B[1;33m,\u001B[0m\u001B[1;33m\u001B[0m\u001B[1;33m\u001B[0m\u001B[0m\n\u001B[0;32m    706\u001B[0m                 \u001B[0merrors\u001B[0m\u001B[1;33m=\u001B[0m\u001B[0merrors\u001B[0m\u001B[1;33m,\u001B[0m\u001B[1;33m\u001B[0m\u001B[1;33m\u001B[0m\u001B[0m\n\u001B[1;32m--> 707\u001B[1;33m                 \u001B[0mnewline\u001B[0m\u001B[1;33m=\u001B[0m\u001B[1;34m\"\"\u001B[0m\u001B[1;33m,\u001B[0m\u001B[1;33m\u001B[0m\u001B[1;33m\u001B[0m\u001B[0m\n\u001B[0m\u001B[0;32m    708\u001B[0m             )\n\u001B[0;32m    709\u001B[0m         \u001B[1;32melse\u001B[0m\u001B[1;33m:\u001B[0m\u001B[1;33m\u001B[0m\u001B[1;33m\u001B[0m\u001B[0m\n",
      "\u001B[1;31mPermissionError\u001B[0m: [Errno 13] Permission denied: 'D:/eeg_ds002893s\\\\event_template.tsv'"
     ]
    }
   ],
   "source": [
    "import os\n",
    "df = template.make_template(additional_cols=target_columns)\n",
    "template_file = os.path.join(bids_root_path, \"event_template.tsv\")\n",
    "df.to_csv(template_file, sep='\\t', index=False)"
   ],
   "metadata": {
    "collapsed": false,
    "pycharm": {
     "name": "#%% Create DataFrame containing a template based specified columns and values\n"
    }
   }
  },
  {
   "cell_type": "markdown",
   "source": [
    "### Fill in the template the mapping\n",
    "\n",
    "To do remapping, you will need to edit the `event_template.tsv` spreadsheet\n",
    "created in the previous step to indicate how each combination of [`value`, `trial_type`]\n",
    "is mapped into a combination of [`event_type`, `task_role`, `shift_cond`].\n",
    "\n",
    "Once you have filled in the mapping, you can use the `remap_events.ipynb` notebook\n",
    "to remap all the event files in your BIDS dataset."
   ],
   "metadata": {
    "collapsed": false
   }
  }
 ],
 "metadata": {
  "kernelspec": {
   "display_name": "Python 3",
   "language": "python",
   "name": "python3"
  },
  "language_info": {
   "codemirror_mode": {
    "name": "ipython",
    "version": 2
   },
   "file_extension": ".py",
   "mimetype": "text/x-python",
   "name": "python",
   "nbconvert_exporter": "python",
   "pygments_lexer": "ipython2",
   "version": "2.7.6"
  }
 },
 "nbformat": 4,
 "nbformat_minor": 0
}